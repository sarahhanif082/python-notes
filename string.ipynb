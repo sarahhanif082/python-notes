{
 "cells": [
  {
   "cell_type": "code",
   "execution_count": null,
   "id": "b9f09b6d",
   "metadata": {},
   "outputs": [
    {
     "name": "stdout",
     "output_type": "stream",
     "text": [
      "  Hello World  \n"
     ]
    }
   ],
   "source": [
    "text = \"  Hello World  \"\n",
    "print(text)\n",
    "#simple string print"
   ]
  },
  {
   "cell_type": "code",
   "execution_count": 12,
   "id": "737495c3",
   "metadata": {},
   "outputs": [
    {
     "name": "stdout",
     "output_type": "stream",
     "text": [
      "Hello\n"
     ]
    }
   ],
   "source": [
    "# slicing start:end (end not included)\n",
    "text = \"  Hello World  \"\n",
    "print(text[2:7])"
   ]
  },
  {
   "cell_type": "code",
   "execution_count": 13,
   "id": "36b124e5",
   "metadata": {},
   "outputs": [
    {
     "name": "stdout",
     "output_type": "stream",
     "text": [
      "  Hel\n"
     ]
    }
   ],
   "source": [
    "# From start to 5th index\n",
    "print(text[:5]) "
   ]
  },
  {
   "cell_type": "code",
   "execution_count": 14,
   "id": "0504ecef",
   "metadata": {},
   "outputs": [
    {
     "name": "stdout",
     "output_type": "stream",
     "text": [
      "o World  \n"
     ]
    }
   ],
   "source": [
    "# From 6th index to end\n",
    "print(text[6:])"
   ]
  },
  {
   "cell_type": "code",
   "execution_count": 15,
   "id": "83e27414",
   "metadata": {},
   "outputs": [
    {
     "name": "stdout",
     "output_type": "stream",
     "text": [
      "rld  \n"
     ]
    }
   ],
   "source": [
    "#  nagative indexing Last 5 characters\n",
    "print(text[-5:]) "
   ]
  },
  {
   "cell_type": "markdown",
   "id": "a5814b43",
   "metadata": {},
   "source": [
    "string modification\n"
   ]
  },
  {
   "cell_type": "code",
   "execution_count": 16,
   "id": "90b2922c",
   "metadata": {},
   "outputs": [
    {
     "name": "stdout",
     "output_type": "stream",
     "text": [
      "  HELLO WORLD  \n"
     ]
    }
   ],
   "source": [
    "print(text.upper())  "
   ]
  },
  {
   "cell_type": "code",
   "execution_count": 17,
   "id": "9484503e",
   "metadata": {},
   "outputs": [
    {
     "name": "stdout",
     "output_type": "stream",
     "text": [
      "  hello world  \n"
     ]
    }
   ],
   "source": [
    "print(text.lower())  "
   ]
  },
  {
   "cell_type": "markdown",
   "id": "ccb283ca",
   "metadata": {},
   "source": [
    "remove space\n",
    "\n"
   ]
  },
  {
   "cell_type": "code",
   "execution_count": 18,
   "id": "03853ec5",
   "metadata": {},
   "outputs": [
    {
     "name": "stdout",
     "output_type": "stream",
     "text": [
      "Hello World\n",
      "Hello World  \n",
      "  Hello World\n"
     ]
    }
   ],
   "source": [
    "print(text.strip())   # both sides \n",
    "print(text.lstrip())  # left side \n",
    "print(text.rstrip())  # right side"
   ]
  },
  {
   "cell_type": "markdown",
   "id": "c527d462",
   "metadata": {},
   "source": [
    "replace"
   ]
  },
  {
   "cell_type": "code",
   "execution_count": 19,
   "id": "97092094",
   "metadata": {},
   "outputs": [
    {
     "name": "stdout",
     "output_type": "stream",
     "text": [
      "  Hello Python  \n"
     ]
    }
   ],
   "source": [
    "print(text.replace(\"World\", \"Python\")) "
   ]
  },
  {
   "cell_type": "markdown",
   "id": "76094f43",
   "metadata": {},
   "source": [
    "Split (sperate words)"
   ]
  },
  {
   "cell_type": "code",
   "execution_count": 20,
   "id": "d4c851d4",
   "metadata": {},
   "outputs": [
    {
     "name": "stdout",
     "output_type": "stream",
     "text": [
      "['Hello', 'World']\n"
     ]
    }
   ],
   "source": [
    "words = text.split()\n",
    "print(words)  "
   ]
  },
  {
   "cell_type": "markdown",
   "id": "3a101167",
   "metadata": {},
   "source": [
    "Concatenation"
   ]
  },
  {
   "cell_type": "code",
   "execution_count": null,
   "id": "eb4b7add",
   "metadata": {},
   "outputs": [
    {
     "name": "stdout",
     "output_type": "stream",
     "text": [
      "Data Science\n"
     ]
    }
   ],
   "source": [
    "s1 = \"Data\"\n",
    "s2 = \"Science\"\n",
    "print(s1 + \" \" + s2)  \n",
    "\n"
   ]
  },
  {
   "cell_type": "markdown",
   "id": "ce336326",
   "metadata": {},
   "source": [
    "string formating\n"
   ]
  },
  {
   "cell_type": "code",
   "execution_count": 23,
   "id": "ee92854a",
   "metadata": {},
   "outputs": [
    {
     "name": "stdout",
     "output_type": "stream",
     "text": [
      "My name is Sara and I am 20 years old.\n"
     ]
    }
   ],
   "source": [
    "name = \"Sara\"\n",
    "age = 20\n",
    "print(f\"My name is {name} and I am {age} years old.\")"
   ]
  }
 ],
 "metadata": {
  "kernelspec": {
   "display_name": "Python 3",
   "language": "python",
   "name": "python3"
  },
  "language_info": {
   "codemirror_mode": {
    "name": "ipython",
    "version": 3
   },
   "file_extension": ".py",
   "mimetype": "text/x-python",
   "name": "python",
   "nbconvert_exporter": "python",
   "pygments_lexer": "ipython3",
   "version": "3.10.11"
  }
 },
 "nbformat": 4,
 "nbformat_minor": 5
}
